{
 "cells": [
  {
   "cell_type": "code",
   "execution_count": 1,
   "id": "5a3707fa",
   "metadata": {},
   "outputs": [
    {
     "name": "stdout",
     "output_type": "stream",
     "text": [
      "N\n",
      "14\n"
     ]
    }
   ],
   "source": [
    "# DICAS SOBRE PYTHON:\n",
    "# FUNÇÃO input(): Ela recebe como parâmetro uma String que será visível ao usuário, \n",
    "# onde geralmente informa que tipo de informação ele está esperando receber;\n",
    "# FUNÇÃO print(): Ela é a responsável por imprimir os dados e informar os valores no terminal;\n",
    "# MÉTODO ord(): Retorna o valor  ASCII de cada letra ou símbolo do teclado;\n",
    "letra = input() \n",
    "alfabeto = {1: \"A\", 2: \"B\", 3: \"C\", 4: \"D\", 5: \"E\", 6: \"F\", 7: \"G\", 8: \"H\", 9: \"I\", 10: \"J\", 11: \"K\", 12: \"L\", 13: \"M\", 14: \"N\", 15: \"O\", 16: \"P\", 17: \"Q\", 18: \"R\", 19: \"S\", 20: \"T\", 21: \"U\", 22: \"V\", 23: \"X\", 24: \"Y\", 25: \"W\", 26: \"Z\"}\n",
    "lista_valor = list(alfabeto.values())\n",
    "posicao = lista_valor.index(letra)\n",
    "print (posicao + 1)\n",
    "# TODO: De acordo com a entrada, imprima a posição dessa letra no Alfabeto;"
   ]
  },
  {
   "cell_type": "code",
   "execution_count": null,
   "id": "98558db4",
   "metadata": {},
   "outputs": [],
   "source": []
  }
 ],
 "metadata": {
  "kernelspec": {
   "display_name": "Python 3",
   "language": "python",
   "name": "python3"
  },
  "language_info": {
   "codemirror_mode": {
    "name": "ipython",
    "version": 3
   },
   "file_extension": ".py",
   "mimetype": "text/x-python",
   "name": "python",
   "nbconvert_exporter": "python",
   "pygments_lexer": "ipython3",
   "version": "3.8.8"
  }
 },
 "nbformat": 4,
 "nbformat_minor": 5
}
